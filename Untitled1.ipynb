{
  "nbformat": 4,
  "nbformat_minor": 0,
  "metadata": {
    "colab": {
      "name": "Untitled1.ipynb",
      "provenance": [],
      "collapsed_sections": []
    },
    "kernelspec": {
      "name": "python3",
      "display_name": "Python 3"
    },
    "language_info": {
      "name": "python"
    }
  },
  "cells": [
    {
      "cell_type": "code",
      "metadata": {
        "colab": {
          "base_uri": "https://localhost:8080/"
        },
        "id": "jar9mE-wxWQk",
        "outputId": "bbdef30c-23c7-40d7-e0ce-e2f1b17bd5d3"
      },
      "source": [
        "#question_1\n",
        "print(\"taha moula\")"
      ],
      "execution_count": 1,
      "outputs": [
        {
          "output_type": "stream",
          "text": [
            "taha moula\n"
          ],
          "name": "stdout"
        }
      ]
    }
  ]
}